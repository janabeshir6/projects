{
  "cells": [
    {
      "cell_type": "code",
      "execution_count": null,
      "metadata": {
        "id": "_Cun-QSdmvOg"
      },
      "outputs": [],
      "source": [
        "import pandas as pd\n",
        "import numpy as np\n",
        "import matplotlib.pyplot as plt\n",
        "import seaborn as sns\n",
        "import tensorflow as tf\n",
        "from tensorflow import keras\n",
        "from tensorflow.keras import layers\n",
        "from tensorflow.keras.utils import to_categorical\n",
        "from keras.layers import BatchNormalization\n",
        "from sklearn.model_selection import train_test_split\n",
        "from sklearn.preprocessing import StandardScaler\n",
        "from sklearn.metrics import classification_report, confusion_matrix\n",
        "import zipfile\n",
        "import os"
      ]
    },
    {
      "cell_type": "markdown",
      "metadata": {
        "id": "NILG4ecqtiLX"
      },
      "source": [
        "Extracting the dataset"
      ]
    },
    {
      "cell_type": "code",
      "execution_count": null,
      "metadata": {
        "id": "5CkYQSz8oC5o"
      },
      "outputs": [],
      "source": [
        "with zipfile.ZipFile('/content/human+activity+recognition+using+smartphones.zip', 'r') as zip_ref:\n",
        "    zip_ref.extractall('data')"
      ]
    },
    {
      "cell_type": "code",
      "execution_count": null,
      "metadata": {
        "id": "dFyZsjenoNWo"
      },
      "outputs": [],
      "source": [
        "with zipfile.ZipFile('/content/data/UCI HAR Dataset.zip', 'r') as zip_ref:\n",
        "    zip_ref.extractall('data_again')"
      ]
    },
    {
      "cell_type": "code",
      "execution_count": null,
      "metadata": {
        "colab": {
          "base_uri": "https://localhost:8080/"
        },
        "id": "Jg5gbD2WoduV",
        "outputId": "98ed8215-1bb6-4312-972a-51ba3491b05a"
      },
      "outputs": [
        {
          "name": "stdout",
          "output_type": "stream",
          "text": [
            "['__MACOSX', 'UCI HAR Dataset']\n"
          ]
        }
      ],
      "source": [
        "data_dir = \"/content/data_again\"\n",
        "print(os.listdir(data_dir))"
      ]
    },
    {
      "cell_type": "code",
      "execution_count": null,
      "metadata": {
        "colab": {
          "base_uri": "https://localhost:8080/"
        },
        "id": "mu4GuJvjpzkh",
        "outputId": "da8475c6-af97-4869-9cc5-0b2590d4f80c"
      },
      "outputs": [
        {
          "name": "stdout",
          "output_type": "stream",
          "text": [
            "/content/data_again/__MACOSX/._UCI HAR Dataset\n",
            "/content/data_again/__MACOSX/UCI HAR Dataset/._README.txt\n",
            "/content/data_again/__MACOSX/UCI HAR Dataset/._features.txt\n",
            "/content/data_again/__MACOSX/UCI HAR Dataset/._activity_labels.txt\n",
            "/content/data_again/__MACOSX/UCI HAR Dataset/._train\n",
            "/content/data_again/__MACOSX/UCI HAR Dataset/._.DS_Store\n",
            "/content/data_again/__MACOSX/UCI HAR Dataset/._features_info.txt\n",
            "/content/data_again/__MACOSX/UCI HAR Dataset/._test\n",
            "/content/data_again/__MACOSX/UCI HAR Dataset/test/._Inertial Signals\n",
            "/content/data_again/__MACOSX/UCI HAR Dataset/test/._X_test.txt\n",
            "/content/data_again/__MACOSX/UCI HAR Dataset/test/._subject_test.txt\n",
            "/content/data_again/__MACOSX/UCI HAR Dataset/test/._y_test.txt\n",
            "/content/data_again/__MACOSX/UCI HAR Dataset/test/Inertial Signals/._body_acc_x_test.txt\n",
            "/content/data_again/__MACOSX/UCI HAR Dataset/test/Inertial Signals/._body_acc_z_test.txt\n",
            "/content/data_again/__MACOSX/UCI HAR Dataset/test/Inertial Signals/._body_gyro_x_test.txt\n",
            "/content/data_again/__MACOSX/UCI HAR Dataset/test/Inertial Signals/._body_gyro_z_test.txt\n",
            "/content/data_again/__MACOSX/UCI HAR Dataset/test/Inertial Signals/._body_acc_y_test.txt\n",
            "/content/data_again/__MACOSX/UCI HAR Dataset/test/Inertial Signals/._total_acc_x_test.txt\n",
            "/content/data_again/__MACOSX/UCI HAR Dataset/test/Inertial Signals/._total_acc_z_test.txt\n",
            "/content/data_again/__MACOSX/UCI HAR Dataset/test/Inertial Signals/._body_gyro_y_test.txt\n",
            "/content/data_again/__MACOSX/UCI HAR Dataset/test/Inertial Signals/._total_acc_y_test.txt\n",
            "/content/data_again/__MACOSX/UCI HAR Dataset/train/._X_train.txt\n",
            "/content/data_again/__MACOSX/UCI HAR Dataset/train/._subject_train.txt\n",
            "/content/data_again/__MACOSX/UCI HAR Dataset/train/._Inertial Signals\n",
            "/content/data_again/__MACOSX/UCI HAR Dataset/train/._y_train.txt\n",
            "/content/data_again/__MACOSX/UCI HAR Dataset/train/Inertial Signals/._total_acc_z_train.txt\n",
            "/content/data_again/__MACOSX/UCI HAR Dataset/train/Inertial Signals/._total_acc_y_train.txt\n",
            "/content/data_again/__MACOSX/UCI HAR Dataset/train/Inertial Signals/._body_gyro_z_train.txt\n",
            "/content/data_again/__MACOSX/UCI HAR Dataset/train/Inertial Signals/._body_acc_z_train.txt\n",
            "/content/data_again/__MACOSX/UCI HAR Dataset/train/Inertial Signals/._body_acc_x_train.txt\n",
            "/content/data_again/__MACOSX/UCI HAR Dataset/train/Inertial Signals/._total_acc_x_train.txt\n",
            "/content/data_again/__MACOSX/UCI HAR Dataset/train/Inertial Signals/._body_gyro_y_train.txt\n",
            "/content/data_again/__MACOSX/UCI HAR Dataset/train/Inertial Signals/._body_gyro_x_train.txt\n",
            "/content/data_again/__MACOSX/UCI HAR Dataset/train/Inertial Signals/._body_acc_y_train.txt\n",
            "/content/data_again/UCI HAR Dataset/README.txt\n",
            "/content/data_again/UCI HAR Dataset/features_info.txt\n",
            "/content/data_again/UCI HAR Dataset/.DS_Store\n",
            "/content/data_again/UCI HAR Dataset/features.txt\n",
            "/content/data_again/UCI HAR Dataset/activity_labels.txt\n",
            "/content/data_again/UCI HAR Dataset/test/X_test.txt\n",
            "/content/data_again/UCI HAR Dataset/test/subject_test.txt\n",
            "/content/data_again/UCI HAR Dataset/test/y_test.txt\n",
            "/content/data_again/UCI HAR Dataset/test/Inertial Signals/total_acc_z_test.txt\n",
            "/content/data_again/UCI HAR Dataset/test/Inertial Signals/body_gyro_x_test.txt\n",
            "/content/data_again/UCI HAR Dataset/test/Inertial Signals/body_acc_y_test.txt\n",
            "/content/data_again/UCI HAR Dataset/test/Inertial Signals/body_gyro_z_test.txt\n",
            "/content/data_again/UCI HAR Dataset/test/Inertial Signals/body_gyro_y_test.txt\n",
            "/content/data_again/UCI HAR Dataset/test/Inertial Signals/body_acc_x_test.txt\n",
            "/content/data_again/UCI HAR Dataset/test/Inertial Signals/total_acc_x_test.txt\n",
            "/content/data_again/UCI HAR Dataset/test/Inertial Signals/total_acc_y_test.txt\n",
            "/content/data_again/UCI HAR Dataset/test/Inertial Signals/body_acc_z_test.txt\n",
            "/content/data_again/UCI HAR Dataset/train/X_train.txt\n",
            "/content/data_again/UCI HAR Dataset/train/y_train.txt\n",
            "/content/data_again/UCI HAR Dataset/train/subject_train.txt\n",
            "/content/data_again/UCI HAR Dataset/train/Inertial Signals/body_gyro_y_train.txt\n",
            "/content/data_again/UCI HAR Dataset/train/Inertial Signals/total_acc_y_train.txt\n",
            "/content/data_again/UCI HAR Dataset/train/Inertial Signals/body_acc_x_train.txt\n",
            "/content/data_again/UCI HAR Dataset/train/Inertial Signals/body_acc_y_train.txt\n",
            "/content/data_again/UCI HAR Dataset/train/Inertial Signals/total_acc_x_train.txt\n",
            "/content/data_again/UCI HAR Dataset/train/Inertial Signals/body_acc_z_train.txt\n",
            "/content/data_again/UCI HAR Dataset/train/Inertial Signals/total_acc_z_train.txt\n",
            "/content/data_again/UCI HAR Dataset/train/Inertial Signals/body_gyro_x_train.txt\n",
            "/content/data_again/UCI HAR Dataset/train/Inertial Signals/body_gyro_z_train.txt\n"
          ]
        }
      ],
      "source": [
        "for root, dirs, files in os.walk(data_dir):\n",
        "    for file in files:\n",
        "        print(os.path.join(root, file))"
      ]
    },
    {
      "cell_type": "code",
      "execution_count": null,
      "metadata": {
        "colab": {
          "base_uri": "https://localhost:8080/"
        },
        "id": "G0prVkhKp8A8",
        "outputId": "fc4c0d2f-41f9-4f48-a9a9-d07262014ef1"
      },
      "outputs": [
        {
          "name": "stderr",
          "output_type": "stream",
          "text": [
            "<ipython-input-34-0d822f085966>:2: FutureWarning: The 'delim_whitespace' keyword in pd.read_csv is deprecated and will be removed in a future version. Use ``sep='\\s+'`` instead\n",
            "  feature_names = pd.read_csv(os.path.join(data_dir, \"UCI HAR Dataset\", \"features.txt\"), delim_whitespace=True, header=None)[1].tolist()\n",
            "<ipython-input-34-0d822f085966>:5: FutureWarning: The 'delim_whitespace' keyword in pd.read_csv is deprecated and will be removed in a future version. Use ``sep='\\s+'`` instead\n",
            "  X_train = pd.read_csv(os.path.join(data_dir, \"UCI HAR Dataset\", 'train', 'X_train.txt'), delim_whitespace=True, header=None)\n",
            "<ipython-input-34-0d822f085966>:7: FutureWarning: The 'delim_whitespace' keyword in pd.read_csv is deprecated and will be removed in a future version. Use ``sep='\\s+'`` instead\n",
            "  y_train = pd.read_csv(os.path.join(data_dir, \"UCI HAR Dataset\", \"train\", \"y_train.txt\"), delim_whitespace=True, header=None, names=[\"Activity\"])\n",
            "<ipython-input-34-0d822f085966>:9: FutureWarning: The 'delim_whitespace' keyword in pd.read_csv is deprecated and will be removed in a future version. Use ``sep='\\s+'`` instead\n",
            "  X_test = pd.read_csv(os.path.join(data_dir, \"UCI HAR Dataset\", 'test', 'X_test.txt'), delim_whitespace=True, header=None)\n"
          ]
        },
        {
          "name": "stdout",
          "output_type": "stream",
          "text": [
            "(7352, 561) (7352, 7)\n",
            "(2947, 561) (2947, 7)\n"
          ]
        },
        {
          "name": "stderr",
          "output_type": "stream",
          "text": [
            "<ipython-input-34-0d822f085966>:11: FutureWarning: The 'delim_whitespace' keyword in pd.read_csv is deprecated and will be removed in a future version. Use ``sep='\\s+'`` instead\n",
            "  y_test = pd.read_csv(os.path.join(data_dir, \"UCI HAR Dataset\", \"test\", \"y_test.txt\"), delim_whitespace=True, header=None, names=[\"Activity\"])\n"
          ]
        }
      ],
      "source": [
        "#Load feature names\n",
        "feature_names = pd.read_csv(os.path.join(data_dir, \"UCI HAR Dataset\", \"features.txt\"), delim_whitespace=True, header=None)[1].tolist()\n",
        "\n",
        "#Load datasets\n",
        "X_train = pd.read_csv(os.path.join(data_dir, \"UCI HAR Dataset\", 'train', 'X_train.txt'), delim_whitespace=True, header=None)\n",
        "\n",
        "y_train = pd.read_csv(os.path.join(data_dir, \"UCI HAR Dataset\", \"train\", \"y_train.txt\"), delim_whitespace=True, header=None, names=[\"Activity\"])\n",
        "\n",
        "X_test = pd.read_csv(os.path.join(data_dir, \"UCI HAR Dataset\", 'test', 'X_test.txt'), delim_whitespace=True, header=None)\n",
        "\n",
        "y_test = pd.read_csv(os.path.join(data_dir, \"UCI HAR Dataset\", \"test\", \"y_test.txt\"), delim_whitespace=True, header=None, names=[\"Activity\"])\n",
        "\n",
        "#Converts class integers to one-hot encoded format to use with categorical crossentropy\n",
        "y_train = to_categorical(y_train)\n",
        "y_test = to_categorical(y_test)\n",
        "\n",
        "print(X_train.shape, y_train.shape)\n",
        "print(X_test.shape, y_test.shape)\n"
      ]
    },
    {
      "cell_type": "markdown",
      "metadata": {
        "id": "ZFAqEXF1tmiI"
      },
      "source": [
        "Preprocessing the data"
      ]
    },
    {
      "cell_type": "code",
      "execution_count": null,
      "metadata": {
        "id": "2hDeNTentbUG"
      },
      "outputs": [],
      "source": [
        "# 1. Standardize features (X_train is still 2D here)\n",
        "scaler = StandardScaler()\n",
        "X_train = scaler.fit_transform(X_train)\n",
        "X_test = scaler.transform(X_test)\n",
        "\n",
        "# 2. Reshape to 3D AFTER scaling to match LSTM input requirement\n",
        "X_train = X_train.reshape(X_train.shape[0], 1, X_train.shape[1])\n",
        "X_test = X_test.reshape(X_test.shape[0], 1, X_test.shape[1])\n",
        "\n"
      ]
    },
    {
      "cell_type": "markdown",
      "metadata": {
        "id": "raYFIN3CuE0s"
      },
      "source": [
        "Build LSTM Model"
      ]
    },
    {
      "cell_type": "code",
      "execution_count": null,
      "metadata": {
        "colab": {
          "base_uri": "https://localhost:8080/",
          "height": 321
        },
        "id": "2lE-R4FyuAl1",
        "outputId": "c3704bd4-7a16-46ad-a74d-bb578e8a7772"
      },
      "outputs": [
        {
          "data": {
            "text/html": [
              "<pre style=\"white-space:pre;overflow-x:auto;line-height:normal;font-family:Menlo,'DejaVu Sans Mono',consolas,'Courier New',monospace\"><span style=\"font-weight: bold\">Model: \"sequential_5\"</span>\n",
              "</pre>\n"
            ],
            "text/plain": [
              "\u001b[1mModel: \"sequential_5\"\u001b[0m\n"
            ]
          },
          "metadata": {},
          "output_type": "display_data"
        },
        {
          "data": {
            "text/html": [
              "<pre style=\"white-space:pre;overflow-x:auto;line-height:normal;font-family:Menlo,'DejaVu Sans Mono',consolas,'Courier New',monospace\">┏━━━━━━━━━━━━━━━━━━━━━━━━━━━━━━━━━┳━━━━━━━━━━━━━━━━━━━━━━━━┳━━━━━━━━━━━━━━━┓\n",
              "┃<span style=\"font-weight: bold\"> Layer (type)                    </span>┃<span style=\"font-weight: bold\"> Output Shape           </span>┃<span style=\"font-weight: bold\">       Param # </span>┃\n",
              "┡━━━━━━━━━━━━━━━━━━━━━━━━━━━━━━━━━╇━━━━━━━━━━━━━━━━━━━━━━━━╇━━━━━━━━━━━━━━━┩\n",
              "│ lstm_12 (<span style=\"color: #0087ff; text-decoration-color: #0087ff\">LSTM</span>)                  │ (<span style=\"color: #00d7ff; text-decoration-color: #00d7ff\">None</span>, <span style=\"color: #00af00; text-decoration-color: #00af00\">1</span>, <span style=\"color: #00af00; text-decoration-color: #00af00\">64</span>)          │       <span style=\"color: #00af00; text-decoration-color: #00af00\">160,256</span> │\n",
              "├─────────────────────────────────┼────────────────────────┼───────────────┤\n",
              "│ dropout_12 (<span style=\"color: #0087ff; text-decoration-color: #0087ff\">Dropout</span>)            │ (<span style=\"color: #00d7ff; text-decoration-color: #00d7ff\">None</span>, <span style=\"color: #00af00; text-decoration-color: #00af00\">1</span>, <span style=\"color: #00af00; text-decoration-color: #00af00\">64</span>)          │             <span style=\"color: #00af00; text-decoration-color: #00af00\">0</span> │\n",
              "├─────────────────────────────────┼────────────────────────┼───────────────┤\n",
              "│ lstm_13 (<span style=\"color: #0087ff; text-decoration-color: #0087ff\">LSTM</span>)                  │ (<span style=\"color: #00d7ff; text-decoration-color: #00d7ff\">None</span>, <span style=\"color: #00af00; text-decoration-color: #00af00\">32</span>)             │        <span style=\"color: #00af00; text-decoration-color: #00af00\">12,416</span> │\n",
              "├─────────────────────────────────┼────────────────────────┼───────────────┤\n",
              "│ dropout_13 (<span style=\"color: #0087ff; text-decoration-color: #0087ff\">Dropout</span>)            │ (<span style=\"color: #00d7ff; text-decoration-color: #00d7ff\">None</span>, <span style=\"color: #00af00; text-decoration-color: #00af00\">32</span>)             │             <span style=\"color: #00af00; text-decoration-color: #00af00\">0</span> │\n",
              "├─────────────────────────────────┼────────────────────────┼───────────────┤\n",
              "│ dense_11 (<span style=\"color: #0087ff; text-decoration-color: #0087ff\">Dense</span>)                │ (<span style=\"color: #00d7ff; text-decoration-color: #00d7ff\">None</span>, <span style=\"color: #00af00; text-decoration-color: #00af00\">64</span>)             │         <span style=\"color: #00af00; text-decoration-color: #00af00\">2,112</span> │\n",
              "├─────────────────────────────────┼────────────────────────┼───────────────┤\n",
              "│ dense_12 (<span style=\"color: #0087ff; text-decoration-color: #0087ff\">Dense</span>)                │ (<span style=\"color: #00d7ff; text-decoration-color: #00d7ff\">None</span>, <span style=\"color: #00af00; text-decoration-color: #00af00\">7</span>)              │           <span style=\"color: #00af00; text-decoration-color: #00af00\">455</span> │\n",
              "└─────────────────────────────────┴────────────────────────┴───────────────┘\n",
              "</pre>\n"
            ],
            "text/plain": [
              "┏━━━━━━━━━━━━━━━━━━━━━━━━━━━━━━━━━┳━━━━━━━━━━━━━━━━━━━━━━━━┳━━━━━━━━━━━━━━━┓\n",
              "┃\u001b[1m \u001b[0m\u001b[1mLayer (type)                   \u001b[0m\u001b[1m \u001b[0m┃\u001b[1m \u001b[0m\u001b[1mOutput Shape          \u001b[0m\u001b[1m \u001b[0m┃\u001b[1m \u001b[0m\u001b[1m      Param #\u001b[0m\u001b[1m \u001b[0m┃\n",
              "┡━━━━━━━━━━━━━━━━━━━━━━━━━━━━━━━━━╇━━━━━━━━━━━━━━━━━━━━━━━━╇━━━━━━━━━━━━━━━┩\n",
              "│ lstm_12 (\u001b[38;5;33mLSTM\u001b[0m)                  │ (\u001b[38;5;45mNone\u001b[0m, \u001b[38;5;34m1\u001b[0m, \u001b[38;5;34m64\u001b[0m)          │       \u001b[38;5;34m160,256\u001b[0m │\n",
              "├─────────────────────────────────┼────────────────────────┼───────────────┤\n",
              "│ dropout_12 (\u001b[38;5;33mDropout\u001b[0m)            │ (\u001b[38;5;45mNone\u001b[0m, \u001b[38;5;34m1\u001b[0m, \u001b[38;5;34m64\u001b[0m)          │             \u001b[38;5;34m0\u001b[0m │\n",
              "├─────────────────────────────────┼────────────────────────┼───────────────┤\n",
              "│ lstm_13 (\u001b[38;5;33mLSTM\u001b[0m)                  │ (\u001b[38;5;45mNone\u001b[0m, \u001b[38;5;34m32\u001b[0m)             │        \u001b[38;5;34m12,416\u001b[0m │\n",
              "├─────────────────────────────────┼────────────────────────┼───────────────┤\n",
              "│ dropout_13 (\u001b[38;5;33mDropout\u001b[0m)            │ (\u001b[38;5;45mNone\u001b[0m, \u001b[38;5;34m32\u001b[0m)             │             \u001b[38;5;34m0\u001b[0m │\n",
              "├─────────────────────────────────┼────────────────────────┼───────────────┤\n",
              "│ dense_11 (\u001b[38;5;33mDense\u001b[0m)                │ (\u001b[38;5;45mNone\u001b[0m, \u001b[38;5;34m64\u001b[0m)             │         \u001b[38;5;34m2,112\u001b[0m │\n",
              "├─────────────────────────────────┼────────────────────────┼───────────────┤\n",
              "│ dense_12 (\u001b[38;5;33mDense\u001b[0m)                │ (\u001b[38;5;45mNone\u001b[0m, \u001b[38;5;34m7\u001b[0m)              │           \u001b[38;5;34m455\u001b[0m │\n",
              "└─────────────────────────────────┴────────────────────────┴───────────────┘\n"
            ]
          },
          "metadata": {},
          "output_type": "display_data"
        },
        {
          "data": {
            "text/html": [
              "<pre style=\"white-space:pre;overflow-x:auto;line-height:normal;font-family:Menlo,'DejaVu Sans Mono',consolas,'Courier New',monospace\"><span style=\"font-weight: bold\"> Total params: </span><span style=\"color: #00af00; text-decoration-color: #00af00\">175,239</span> (684.53 KB)\n",
              "</pre>\n"
            ],
            "text/plain": [
              "\u001b[1m Total params: \u001b[0m\u001b[38;5;34m175,239\u001b[0m (684.53 KB)\n"
            ]
          },
          "metadata": {},
          "output_type": "display_data"
        },
        {
          "data": {
            "text/html": [
              "<pre style=\"white-space:pre;overflow-x:auto;line-height:normal;font-family:Menlo,'DejaVu Sans Mono',consolas,'Courier New',monospace\"><span style=\"font-weight: bold\"> Trainable params: </span><span style=\"color: #00af00; text-decoration-color: #00af00\">175,239</span> (684.53 KB)\n",
              "</pre>\n"
            ],
            "text/plain": [
              "\u001b[1m Trainable params: \u001b[0m\u001b[38;5;34m175,239\u001b[0m (684.53 KB)\n"
            ]
          },
          "metadata": {},
          "output_type": "display_data"
        },
        {
          "data": {
            "text/html": [
              "<pre style=\"white-space:pre;overflow-x:auto;line-height:normal;font-family:Menlo,'DejaVu Sans Mono',consolas,'Courier New',monospace\"><span style=\"font-weight: bold\"> Non-trainable params: </span><span style=\"color: #00af00; text-decoration-color: #00af00\">0</span> (0.00 B)\n",
              "</pre>\n"
            ],
            "text/plain": [
              "\u001b[1m Non-trainable params: \u001b[0m\u001b[38;5;34m0\u001b[0m (0.00 B)\n"
            ]
          },
          "metadata": {},
          "output_type": "display_data"
        }
      ],
      "source": [
        "num_classes = y_train.shape[1] #No. of columns\n",
        "\n",
        "model = keras.Sequential([\n",
        "    layers.LSTM(64, input_shape=(X_train.shape[1], X_train.shape[2]), return_sequences=True), #Learns temporal patterns\n",
        "    layers.Dropout(0.5), #Regularization\n",
        "    layers.LSTM(32), #Reduces dimensionality\n",
        "    layers.Dropout(0.5),\n",
        "    layers.Dense(64, activation='relu'), #Fully connected\n",
        "    layers.Dense(num_classes, activation='softmax'), #Multi-class classification\n",
        "])\n",
        "\n",
        "model.compile(optimizer='adam', loss='categorical_crossentropy', metrics=['accuracy'])\n",
        "model.summary()"
      ]
    },
    {
      "cell_type": "code",
      "execution_count": null,
      "metadata": {
        "colab": {
          "base_uri": "https://localhost:8080/",
          "height": 819
        },
        "id": "1-qf0r3eu_lO",
        "outputId": "fa3eaad8-1ab8-42ff-8d8d-ed82e1ab9888"
      },
      "outputs": [
        {
          "name": "stdout",
          "output_type": "stream",
          "text": [
            "Epoch 1/50\n",
            "\u001b[1m92/92\u001b[0m \u001b[32m━━━━━━━━━━━━━━━━━━━━\u001b[0m\u001b[37m\u001b[0m \u001b[1m9s\u001b[0m 13ms/step - accuracy: 0.3895 - loss: 1.6295 - val_accuracy: 0.7750 - val_loss: 0.6436\n",
            "Epoch 2/50\n",
            "\u001b[1m92/92\u001b[0m \u001b[32m━━━━━━━━━━━━━━━━━━━━\u001b[0m\u001b[37m\u001b[0m \u001b[1m1s\u001b[0m 7ms/step - accuracy: 0.7639 - loss: 0.6292 - val_accuracy: 0.9259 - val_loss: 0.2780\n",
            "Epoch 3/50\n",
            "\u001b[1m92/92\u001b[0m \u001b[32m━━━━━━━━━━━━━━━━━━━━\u001b[0m\u001b[37m\u001b[0m \u001b[1m1s\u001b[0m 7ms/step - accuracy: 0.8508 - loss: 0.3534 - val_accuracy: 0.9266 - val_loss: 0.2311\n",
            "Epoch 4/50\n",
            "\u001b[1m92/92\u001b[0m \u001b[32m━━━━━━━━━━━━━━━━━━━━\u001b[0m\u001b[37m\u001b[0m \u001b[1m1s\u001b[0m 8ms/step - accuracy: 0.9089 - loss: 0.2418 - val_accuracy: 0.9320 - val_loss: 0.1813\n",
            "Epoch 5/50\n",
            "\u001b[1m92/92\u001b[0m \u001b[32m━━━━━━━━━━━━━━━━━━━━\u001b[0m\u001b[37m\u001b[0m \u001b[1m1s\u001b[0m 7ms/step - accuracy: 0.9335 - loss: 0.1891 - val_accuracy: 0.9477 - val_loss: 0.1336\n",
            "Epoch 6/50\n",
            "\u001b[1m92/92\u001b[0m \u001b[32m━━━━━━━━━━━━━━━━━━━━\u001b[0m\u001b[37m\u001b[0m \u001b[1m1s\u001b[0m 7ms/step - accuracy: 0.9457 - loss: 0.1541 - val_accuracy: 0.9470 - val_loss: 0.1534\n",
            "Epoch 7/50\n",
            "\u001b[1m92/92\u001b[0m \u001b[32m━━━━━━━━━━━━━━━━━━━━\u001b[0m\u001b[37m\u001b[0m \u001b[1m1s\u001b[0m 7ms/step - accuracy: 0.9524 - loss: 0.1418 - val_accuracy: 0.9409 - val_loss: 0.1683\n",
            "Epoch 8/50\n",
            "\u001b[1m92/92\u001b[0m \u001b[32m━━━━━━━━━━━━━━━━━━━━\u001b[0m\u001b[37m\u001b[0m \u001b[1m1s\u001b[0m 9ms/step - accuracy: 0.9551 - loss: 0.1273 - val_accuracy: 0.9517 - val_loss: 0.1597\n",
            "Epoch 9/50\n",
            "\u001b[1m92/92\u001b[0m \u001b[32m━━━━━━━━━━━━━━━━━━━━\u001b[0m\u001b[37m\u001b[0m \u001b[1m2s\u001b[0m 12ms/step - accuracy: 0.9604 - loss: 0.1104 - val_accuracy: 0.9497 - val_loss: 0.1391\n",
            "Epoch 10/50\n",
            "\u001b[1m92/92\u001b[0m \u001b[32m━━━━━━━━━━━━━━━━━━━━\u001b[0m\u001b[37m\u001b[0m \u001b[1m1s\u001b[0m 8ms/step - accuracy: 0.9596 - loss: 0.1237 - val_accuracy: 0.9422 - val_loss: 0.2120\n"
          ]
        },
        {
          "data": {
            "image/png": "[encoded data removed]",
            "text/plain": [
              "<Figure size 640x480 with 1 Axes>"
            ]
          },
          "metadata": {},
          "output_type": "display_data"
        }
      ],
      "source": [
        "early_stop = keras.callbacks.EarlyStopping(monitor='val_loss', patience=5, restore_best_weights=True)\n",
        "history = model.fit(X_train, y_train, epochs=50, batch_size=64, validation_split=0.2, callbacks=[early_stop])\n",
        "\n",
        "plt.plot(history.history['accuracy'], label='Train Accuracy')\n",
        "plt.plot(history.history['val_accuracy'], label='Validation Accuracy')\n",
        "plt.legend()\n",
        "plt.xlabel('Epoch')\n",
        "plt.ylabel('Accuracy')\n",
        "plt.title('Training vs Validation Accuracy')\n",
        "plt.show()"
      ]
    },
    {
      "cell_type": "code",
      "execution_count": null,
      "metadata": {
        "colab": {
          "base_uri": "https://localhost:8080/"
        },
        "id": "5i5xSu-tvfG-",
        "outputId": "4e6df71f-0868-4140-b2dd-2590a5cdbc91"
      },
      "outputs": [
        {
          "name": "stdout",
          "output_type": "stream",
          "text": [
            "\u001b[1m93/93\u001b[0m \u001b[32m━━━━━━━━━━━━━━━━━━━━\u001b[0m\u001b[37m\u001b[0m \u001b[1m1s\u001b[0m 7ms/step\n",
            "              precision    recall  f1-score   support\n",
            "\n",
            "           1       0.91      0.99      0.95       496\n",
            "           2       0.97      0.87      0.92       471\n",
            "           3       0.92      0.93      0.92       420\n",
            "           4       0.90      0.89      0.89       491\n",
            "           5       0.91      0.91      0.91       532\n",
            "           6       0.99      1.00      1.00       537\n",
            "\n",
            "    accuracy                           0.93      2947\n",
            "   macro avg       0.93      0.93      0.93      2947\n",
            "weighted avg       0.93      0.93      0.93      2947\n",
            "\n"
          ]
        }
      ],
      "source": [
        "y_pred = model.predict(X_test)\n",
        "y_pred = np.argmax(y_pred, axis=1)\n",
        "y_test_labels = np.argmax(y_test, axis=1) #Converts y_test back to class indices for comparison\n",
        "\n",
        "print(classification_report(y_test_labels, y_pred))"
      ]
    },
    {
      "cell_type": "code",
      "execution_count": null,
      "metadata": {
        "colab": {
          "base_uri": "https://localhost:8080/",
          "height": 718
        },
        "id": "qVuAwKv5vpFi",
        "outputId": "36b0a980-594f-48c5-aaa6-593c8170fb63"
      },
      "outputs": [
        {
          "data": {
            "image/png": "[encoded data removed]",
            "text/plain": [
              "<Figure size 1000x800 with 2 Axes>"
            ]
          },
          "metadata": {},
          "output_type": "display_data"
        }
      ],
      "source": [
        "conf_matrix = confusion_matrix(y_test_labels, y_pred)\n",
        "plt.figure(figsize=(10, 8))\n",
        "sns.heatmap(conf_matrix, annot=True, fmt = 'd', cmap='Blues')\n",
        "plt.title('Confusion Matrix')\n",
        "plt.xlabel('Predicted')\n",
        "plt.ylabel('True')\n",
        "plt.show()"
      ]
    },
    {
      "cell_type": "code",
      "execution_count": null,
      "metadata": {
        "colab": {
          "base_uri": "https://localhost:8080/"
        },
        "id": "RsOmb138w_ca",
        "outputId": "88d0da84-1851-48b2-8ef9-7263f800f713"
      },
      "outputs": [
        {
          "name": "stdout",
          "output_type": "stream",
          "text": [
            "Test Accuracy: 93.25%\n"
          ]
        }
      ],
      "source": [
        "test_loss, test_accuracy = model.evaluate(X_test, y_test, verbose=0)\n",
        "\n",
        "print(f\"Test Accuracy: {test_accuracy * 100:.2f}%\")"
      ]
    }
  ],
  "metadata": {
    "colab": {
      "provenance": []
    },
    "kernelspec": {
      "display_name": "Python 3",
      "name": "python3"
    },
    "language_info": {
      "name": "python"
    }
  },
  "nbformat": 4,
  "nbformat_minor": 0
}
